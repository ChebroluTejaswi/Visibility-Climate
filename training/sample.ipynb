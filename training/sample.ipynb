{
 "cells": [
  {
   "cell_type": "code",
   "execution_count": null,
   "metadata": {},
   "outputs": [],
   "source": [
    "import pandas as pd\n",
    "import numpy as np"
   ]
  },
  {
   "cell_type": "code",
   "execution_count": null,
   "metadata": {},
   "outputs": [],
   "source": [
    "data=pd.read_csv(\"data.csv\")"
   ]
  },
  {
   "cell_type": "code",
   "execution_count": null,
   "metadata": {},
   "outputs": [
    {
     "data": {
      "text/html": [
       "<div>\n",
       "<style scoped>\n",
       "    .dataframe tbody tr th:only-of-type {\n",
       "        vertical-align: middle;\n",
       "    }\n",
       "\n",
       "    .dataframe tbody tr th {\n",
       "        vertical-align: top;\n",
       "    }\n",
       "\n",
       "    .dataframe thead th {\n",
       "        text-align: right;\n",
       "    }\n",
       "</style>\n",
       "<table border=\"1\" class=\"dataframe\">\n",
       "  <thead>\n",
       "    <tr style=\"text-align: right;\">\n",
       "      <th></th>\n",
       "      <th>DATE</th>\n",
       "      <th>VISIBILITY</th>\n",
       "      <th>DRYBULBTEMPF</th>\n",
       "      <th>WETBULBTEMPF</th>\n",
       "      <th>DewPointTempF</th>\n",
       "      <th>RelativeHumidity</th>\n",
       "      <th>WindSpeed</th>\n",
       "      <th>WindDirection</th>\n",
       "      <th>StationPressure</th>\n",
       "      <th>SeaLevelPressure</th>\n",
       "      <th>Precip</th>\n",
       "    </tr>\n",
       "  </thead>\n",
       "  <tbody>\n",
       "    <tr>\n",
       "      <th>0</th>\n",
       "      <td>2010-01-01 00:51:00</td>\n",
       "      <td>6.0</td>\n",
       "      <td>33.0</td>\n",
       "      <td>32.0</td>\n",
       "      <td>31.0</td>\n",
       "      <td>92.0</td>\n",
       "      <td>0.0</td>\n",
       "      <td>0.0</td>\n",
       "      <td>29.97</td>\n",
       "      <td>29.99</td>\n",
       "      <td>0.01</td>\n",
       "    </tr>\n",
       "    <tr>\n",
       "      <th>1</th>\n",
       "      <td>2010-01-01 01:51:00</td>\n",
       "      <td>6.0</td>\n",
       "      <td>33.0</td>\n",
       "      <td>33.0</td>\n",
       "      <td>32.0</td>\n",
       "      <td>96.0</td>\n",
       "      <td>0.0</td>\n",
       "      <td>0.0</td>\n",
       "      <td>29.97</td>\n",
       "      <td>29.99</td>\n",
       "      <td>0.02</td>\n",
       "    </tr>\n",
       "    <tr>\n",
       "      <th>2</th>\n",
       "      <td>2010-01-01 02:51:00</td>\n",
       "      <td>5.0</td>\n",
       "      <td>33.0</td>\n",
       "      <td>33.0</td>\n",
       "      <td>32.0</td>\n",
       "      <td>96.0</td>\n",
       "      <td>0.0</td>\n",
       "      <td>0.0</td>\n",
       "      <td>29.97</td>\n",
       "      <td>29.99</td>\n",
       "      <td>0.02</td>\n",
       "    </tr>\n",
       "    <tr>\n",
       "      <th>3</th>\n",
       "      <td>2010-01-01 03:51:00</td>\n",
       "      <td>5.0</td>\n",
       "      <td>33.0</td>\n",
       "      <td>33.0</td>\n",
       "      <td>32.0</td>\n",
       "      <td>96.0</td>\n",
       "      <td>0.0</td>\n",
       "      <td>0.0</td>\n",
       "      <td>29.95</td>\n",
       "      <td>29.97</td>\n",
       "      <td>0.02</td>\n",
       "    </tr>\n",
       "    <tr>\n",
       "      <th>4</th>\n",
       "      <td>2010-01-01 04:51:00</td>\n",
       "      <td>5.0</td>\n",
       "      <td>33.0</td>\n",
       "      <td>32.0</td>\n",
       "      <td>31.0</td>\n",
       "      <td>92.0</td>\n",
       "      <td>0.0</td>\n",
       "      <td>0.0</td>\n",
       "      <td>29.93</td>\n",
       "      <td>29.96</td>\n",
       "      <td>0.02</td>\n",
       "    </tr>\n",
       "  </tbody>\n",
       "</table>\n",
       "</div>"
      ],
      "text/plain": [
       "                  DATE  VISIBILITY  DRYBULBTEMPF  WETBULBTEMPF  DewPointTempF  \\\n",
       "0  2010-01-01 00:51:00         6.0          33.0          32.0           31.0   \n",
       "1  2010-01-01 01:51:00         6.0          33.0          33.0           32.0   \n",
       "2  2010-01-01 02:51:00         5.0          33.0          33.0           32.0   \n",
       "3  2010-01-01 03:51:00         5.0          33.0          33.0           32.0   \n",
       "4  2010-01-01 04:51:00         5.0          33.0          32.0           31.0   \n",
       "\n",
       "   RelativeHumidity  WindSpeed  WindDirection  StationPressure  \\\n",
       "0              92.0        0.0            0.0            29.97   \n",
       "1              96.0        0.0            0.0            29.97   \n",
       "2              96.0        0.0            0.0            29.97   \n",
       "3              96.0        0.0            0.0            29.95   \n",
       "4              92.0        0.0            0.0            29.93   \n",
       "\n",
       "   SeaLevelPressure  Precip  \n",
       "0             29.99    0.01  \n",
       "1             29.99    0.02  \n",
       "2             29.99    0.02  \n",
       "3             29.97    0.02  \n",
       "4             29.96    0.02  "
      ]
     },
     "execution_count": 3,
     "metadata": {},
     "output_type": "execute_result"
    }
   ],
   "source": [
    "data.head()"
   ]
  },
  {
   "cell_type": "markdown",
   "metadata": {},
   "source": [
    "<hr>"
   ]
  },
  {
   "cell_type": "markdown",
   "metadata": {},
   "source": [
    "Pre-Processing"
   ]
  },
  {
   "cell_type": "code",
   "execution_count": null,
   "metadata": {},
   "outputs": [],
   "source": [
    "import preprocess\n",
    "preprocessor= preprocess.calculate()"
   ]
  },
  {
   "cell_type": "code",
   "execution_count": null,
   "metadata": {},
   "outputs": [],
   "source": [
    "data=preprocessor.remove_columns(data,['DATE','Precip','WETBULBTEMPF','DewPointTempF','StationPressure'])\n",
    "data=preprocessor.replaceInvalidValueswithNull(data)\n",
    "is_null_present=preprocessor.is_null_present(data)\n",
    "if(is_null_present):\n",
    "    data=preprocessor.impute_missing_values(data)\n",
    "\n",
    "X,Y=preprocessor.separate_label_feature(data,label_column_name='VISIBILITY')"
   ]
  },
  {
   "cell_type": "markdown",
   "metadata": {},
   "source": [
    "<hr>"
   ]
  },
  {
   "cell_type": "markdown",
   "metadata": {},
   "source": [
    "Clustering approach"
   ]
  },
  {
   "cell_type": "code",
   "execution_count": null,
   "metadata": {},
   "outputs": [],
   "source": [
    "import clustering"
   ]
  },
  {
   "cell_type": "code",
   "execution_count": null,
   "metadata": {},
   "outputs": [],
   "source": [
    "X=kmeans.create_clusters(X,number_of_clusters)"
   ]
  },
  {
   "cell_type": "code",
   "execution_count": null,
   "metadata": {},
   "outputs": [
    {
     "ename": "IndentationError",
     "evalue": "unexpected indent (1430441084.py, line 12)",
     "output_type": "error",
     "traceback": [
      "\u001b[1;36m  Cell \u001b[1;32mIn[10], line 12\u001b[1;36m\u001b[0m\n\u001b[1;33m    \"\"\"parsing all the clusters and looking for the best ML algorithm to fit on individual cluster\"\"\"\u001b[0m\n\u001b[1;37m    ^\u001b[0m\n\u001b[1;31mIndentationError\u001b[0m\u001b[1;31m:\u001b[0m unexpected indent\n"
     ]
    }
   ],
   "source": [
    "kmeans=clustering.KMeansClustering() # object initialization.\n",
    "number_of_clusters=kmeans.elbow_plot(X)  #  using the elbow plot to find the number of optimum clusters\n",
    "\n",
    "# Divide the data into clusters\n",
    "X=kmeans.create_clusters(X,number_of_clusters)\n",
    "\n",
    "\n",
    "#create a new column in the dataset consisting of the corresponding cluster assignments.\n",
    "X['Labels']=Y\n",
    "# getting the unique clusters from our dataset\n",
    "list_of_clusters=X['Cluster'].unique()\n",
    "\n",
    "            \"\"\"parsing all the clusters and looking for the best ML algorithm to fit on individual cluster\"\"\"\n",
    "\n",
    "for i in list_of_clusters:\n",
    "    cluster_data=X[X['Cluster']==i] # filter the data for one cluster\n",
    "\n",
    "    # Prepare the feature and Label columns\n",
    "    cluster_features=cluster_data.drop(['Labels','Cluster'],axis=1)\n",
    "    cluster_label= cluster_data['Labels']\n",
    "\n",
    "    # splitting the data into training and test set for each cluster one by one\n",
    "    x_train, x_test, y_train, y_test = train_test_split(cluster_features, cluster_label, test_size=1 / 3, random_state=36)\n",
    "\n",
    "    x_train_scaled = preprocessor.standardScalingData(x_train)\n",
    "    x_test_scaled = preprocessor.standardScalingData(x_test)\n",
    "\n",
    "    model_finder=tuner.Model_Finder(self.file_object,self.log_writer) # object initialization\n",
    "\n",
    "    #getting the best model for each of the clusters\n",
    "    best_model_name,best_model=model_finder.get_best_model(x_train_scaled,y_train,x_test_scaled,y_test)\n",
    "\n",
    "    #saving the best model to the directory.\n",
    "    file_op = file_methods.File_Operation(self.file_object,self.log_writer)\n",
    "    save_model=file_op.save_model(best_model,best_model_name+str(i))\n"
   ]
  }
 ],
 "metadata": {
  "kernelspec": {
   "display_name": "Python 3.10.5 ('env': venv)",
   "language": "python",
   "name": "python3"
  },
  "language_info": {
   "codemirror_mode": {
    "name": "ipython",
    "version": 3
   },
   "file_extension": ".py",
   "mimetype": "text/x-python",
   "name": "python",
   "nbconvert_exporter": "python",
   "pygments_lexer": "ipython3",
   "version": "3.10.5"
  },
  "orig_nbformat": 4,
  "vscode": {
   "interpreter": {
    "hash": "6e20d02221e0208d23cf5cdb84927a8f7b37f70278339dbcf24f8c638d4fc043"
   }
  }
 },
 "nbformat": 4,
 "nbformat_minor": 2
}
